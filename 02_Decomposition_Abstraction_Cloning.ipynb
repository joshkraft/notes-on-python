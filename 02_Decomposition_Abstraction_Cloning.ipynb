{
 "metadata": {
  "language_info": {
   "codemirror_mode": {
    "name": "ipython",
    "version": 3
   },
   "file_extension": ".py",
   "mimetype": "text/x-python",
   "name": "python",
   "nbconvert_exporter": "python",
   "pygments_lexer": "ipython3",
   "version": 3
  },
  "orig_nbformat": 2
 },
 "nbformat": 4,
 "nbformat_minor": 2,
 "cells": [
  {
   "source": [
    "# Decomposition, Abstraction, and Cloning\n",
    "\n",
    "## Abstraction\n",
    "\n",
    "Many of the things we use are 'black boxes'. In the context of machine learning, this can be a bad thing, sometimes even used as a derogatory term. In the context of using your microwave, however, being able to treat the machine as a black box is a very useful thing. This is possible through **abstraction**, which is the practice of intentionally hiding away every detail that can be hidden. \n",
    "\n",
    "## Decomposition\n",
    "\n",
    "Decomposition, on the other hand, is the concept of breaking things down into appropriately sized pieces. In the world of software, where each piece must be tested thoroughly, those pieces are typically quite small. So **decomposition** typically involves breaking down big problems into small pieces."
   ],
   "cell_type": "markdown",
   "metadata": {}
  },
  {
   "source": [
    "> We will be thinking through two lenses: Ray the (code) writer, and Yusuf the (code) user. \n",
    "\n",
    "## Functions\n",
    "\n",
    "Functions are resuable chunks of code, with the following characteristics:\n",
    "\n",
    "- Has a **name**\n",
    "- Accepts **parameters**\n",
    "- Described via **docstring** (reccomended)\n",
    "- Contains a **body**\n",
    "- **Returns** something"
   ],
   "cell_type": "markdown",
   "metadata": {}
  }
 ]
}